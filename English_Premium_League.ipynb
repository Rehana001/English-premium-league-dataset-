{
  "nbformat": 4,
  "nbformat_minor": 0,
  "metadata": {
    "colab": {
      "name": "English Premium League.ipynb",
      "provenance": [],
      "collapsed_sections": []
    },
    "kernelspec": {
      "name": "python3",
      "display_name": "Python 3"
    },
    "language_info": {
      "name": "python"
    }
  },
  "cells": [
    {
      "cell_type": "code",
      "execution_count": null,
      "metadata": {
        "id": "y3vxLnxnffdy"
      },
      "outputs": [],
      "source": [
        "import numpy as np \n",
        "import pandas as pd \n",
        "import matplotlib.pyplot as plt \n",
        "import seaborn as sns \n",
        "import string "
      ]
    },
    {
      "cell_type": "code",
      "source": [
        "from google.colab import files \n",
        "uploaded=files.upload()"
      ],
      "metadata": {
        "colab": {
          "base_uri": "https://localhost:8080/",
          "height": 349
        },
        "id": "_ilaIJ_Af2ZY",
        "outputId": "3e790436-6385-4161-d907-6e966dd825c2"
      },
      "execution_count": null,
      "outputs": [
        {
          "output_type": "display_data",
          "data": {
            "text/plain": [
              "<IPython.core.display.HTML object>"
            ],
            "text/html": [
              "\n",
              "     <input type=\"file\" id=\"files-ebc4f17e-63e9-453b-8f0d-7dc0039b2ea1\" name=\"files[]\" multiple disabled\n",
              "        style=\"border:none\" />\n",
              "     <output id=\"result-ebc4f17e-63e9-453b-8f0d-7dc0039b2ea1\">\n",
              "      Upload widget is only available when the cell has been executed in the\n",
              "      current browser session. Please rerun this cell to enable.\n",
              "      </output>\n",
              "      <script src=\"/nbextensions/google.colab/files.js\"></script> "
            ]
          },
          "metadata": {}
        },
        {
          "output_type": "error",
          "ename": "MessageError",
          "evalue": "ignored",
          "traceback": [
            "\u001b[0;31m---------------------------------------------------------------------------\u001b[0m",
            "\u001b[0;31mMessageError\u001b[0m                              Traceback (most recent call last)",
            "\u001b[0;32m<ipython-input-3-86f7336bb25f>\u001b[0m in \u001b[0;36m<module>\u001b[0;34m()\u001b[0m\n\u001b[1;32m      1\u001b[0m \u001b[0;32mfrom\u001b[0m \u001b[0mgoogle\u001b[0m\u001b[0;34m.\u001b[0m\u001b[0mcolab\u001b[0m \u001b[0;32mimport\u001b[0m \u001b[0mfiles\u001b[0m\u001b[0;34m\u001b[0m\u001b[0;34m\u001b[0m\u001b[0m\n\u001b[0;32m----> 2\u001b[0;31m \u001b[0muploaded\u001b[0m\u001b[0;34m=\u001b[0m\u001b[0mfiles\u001b[0m\u001b[0;34m.\u001b[0m\u001b[0mupload\u001b[0m\u001b[0;34m(\u001b[0m\u001b[0;34m)\u001b[0m\u001b[0;34m\u001b[0m\u001b[0;34m\u001b[0m\u001b[0m\n\u001b[0m",
            "\u001b[0;32m/usr/local/lib/python3.7/dist-packages/google/colab/files.py\u001b[0m in \u001b[0;36mupload\u001b[0;34m()\u001b[0m\n\u001b[1;32m     44\u001b[0m   \"\"\"\n\u001b[1;32m     45\u001b[0m \u001b[0;34m\u001b[0m\u001b[0m\n\u001b[0;32m---> 46\u001b[0;31m   \u001b[0muploaded_files\u001b[0m \u001b[0;34m=\u001b[0m \u001b[0m_upload_files\u001b[0m\u001b[0;34m(\u001b[0m\u001b[0mmultiple\u001b[0m\u001b[0;34m=\u001b[0m\u001b[0;32mTrue\u001b[0m\u001b[0;34m)\u001b[0m\u001b[0;34m\u001b[0m\u001b[0;34m\u001b[0m\u001b[0m\n\u001b[0m\u001b[1;32m     47\u001b[0m   \u001b[0;31m# Mapping from original filename to filename as saved locally.\u001b[0m\u001b[0;34m\u001b[0m\u001b[0;34m\u001b[0m\u001b[0;34m\u001b[0m\u001b[0m\n\u001b[1;32m     48\u001b[0m   \u001b[0mlocal_filenames\u001b[0m \u001b[0;34m=\u001b[0m \u001b[0mdict\u001b[0m\u001b[0;34m(\u001b[0m\u001b[0;34m)\u001b[0m\u001b[0;34m\u001b[0m\u001b[0;34m\u001b[0m\u001b[0m\n",
            "\u001b[0;32m/usr/local/lib/python3.7/dist-packages/google/colab/files.py\u001b[0m in \u001b[0;36m_upload_files\u001b[0;34m(multiple)\u001b[0m\n\u001b[1;32m    121\u001b[0m   result = _output.eval_js(\n\u001b[1;32m    122\u001b[0m       'google.colab._files._uploadFiles(\"{input_id}\", \"{output_id}\")'.format(\n\u001b[0;32m--> 123\u001b[0;31m           input_id=input_id, output_id=output_id))\n\u001b[0m\u001b[1;32m    124\u001b[0m   \u001b[0mfiles\u001b[0m \u001b[0;34m=\u001b[0m \u001b[0m_collections\u001b[0m\u001b[0;34m.\u001b[0m\u001b[0mdefaultdict\u001b[0m\u001b[0;34m(\u001b[0m\u001b[0m_six\u001b[0m\u001b[0;34m.\u001b[0m\u001b[0mbinary_type\u001b[0m\u001b[0;34m)\u001b[0m\u001b[0;34m\u001b[0m\u001b[0;34m\u001b[0m\u001b[0m\n\u001b[1;32m    125\u001b[0m \u001b[0;34m\u001b[0m\u001b[0m\n",
            "\u001b[0;32m/usr/local/lib/python3.7/dist-packages/google/colab/output/_js.py\u001b[0m in \u001b[0;36meval_js\u001b[0;34m(script, ignore_result, timeout_sec)\u001b[0m\n\u001b[1;32m     38\u001b[0m   \u001b[0;32mif\u001b[0m \u001b[0mignore_result\u001b[0m\u001b[0;34m:\u001b[0m\u001b[0;34m\u001b[0m\u001b[0;34m\u001b[0m\u001b[0m\n\u001b[1;32m     39\u001b[0m     \u001b[0;32mreturn\u001b[0m\u001b[0;34m\u001b[0m\u001b[0;34m\u001b[0m\u001b[0m\n\u001b[0;32m---> 40\u001b[0;31m   \u001b[0;32mreturn\u001b[0m \u001b[0m_message\u001b[0m\u001b[0;34m.\u001b[0m\u001b[0mread_reply_from_input\u001b[0m\u001b[0;34m(\u001b[0m\u001b[0mrequest_id\u001b[0m\u001b[0;34m,\u001b[0m \u001b[0mtimeout_sec\u001b[0m\u001b[0;34m)\u001b[0m\u001b[0;34m\u001b[0m\u001b[0;34m\u001b[0m\u001b[0m\n\u001b[0m\u001b[1;32m     41\u001b[0m \u001b[0;34m\u001b[0m\u001b[0m\n\u001b[1;32m     42\u001b[0m \u001b[0;34m\u001b[0m\u001b[0m\n",
            "\u001b[0;32m/usr/local/lib/python3.7/dist-packages/google/colab/_message.py\u001b[0m in \u001b[0;36mread_reply_from_input\u001b[0;34m(message_id, timeout_sec)\u001b[0m\n\u001b[1;32m    104\u001b[0m         reply.get('colab_msg_id') == message_id):\n\u001b[1;32m    105\u001b[0m       \u001b[0;32mif\u001b[0m \u001b[0;34m'error'\u001b[0m \u001b[0;32min\u001b[0m \u001b[0mreply\u001b[0m\u001b[0;34m:\u001b[0m\u001b[0;34m\u001b[0m\u001b[0;34m\u001b[0m\u001b[0m\n\u001b[0;32m--> 106\u001b[0;31m         \u001b[0;32mraise\u001b[0m \u001b[0mMessageError\u001b[0m\u001b[0;34m(\u001b[0m\u001b[0mreply\u001b[0m\u001b[0;34m[\u001b[0m\u001b[0;34m'error'\u001b[0m\u001b[0;34m]\u001b[0m\u001b[0;34m)\u001b[0m\u001b[0;34m\u001b[0m\u001b[0;34m\u001b[0m\u001b[0m\n\u001b[0m\u001b[1;32m    107\u001b[0m       \u001b[0;32mreturn\u001b[0m \u001b[0mreply\u001b[0m\u001b[0;34m.\u001b[0m\u001b[0mget\u001b[0m\u001b[0;34m(\u001b[0m\u001b[0;34m'data'\u001b[0m\u001b[0;34m,\u001b[0m \u001b[0;32mNone\u001b[0m\u001b[0;34m)\u001b[0m\u001b[0;34m\u001b[0m\u001b[0;34m\u001b[0m\u001b[0m\n\u001b[1;32m    108\u001b[0m \u001b[0;34m\u001b[0m\u001b[0m\n",
            "\u001b[0;31mMessageError\u001b[0m: TypeError: Cannot read properties of undefined (reading '_uploadFiles')"
          ]
        }
      ]
    },
    {
      "cell_type": "code",
      "source": [
        "df= pd.read_csv('EPL_season-2021.csv')\n",
        "df.head()"
      ],
      "metadata": {
        "id": "1UcMsPG-gLXj"
      },
      "execution_count": null,
      "outputs": []
    },
    {
      "cell_type": "code",
      "source": [
        "df.dtypes"
      ],
      "metadata": {
        "id": "EFLQM1TvgVcl"
      },
      "execution_count": null,
      "outputs": []
    },
    {
      "cell_type": "code",
      "source": [
        "df.describe()"
      ],
      "metadata": {
        "id": "vrTGnn1RgcwG"
      },
      "execution_count": null,
      "outputs": []
    },
    {
      "cell_type": "code",
      "source": [
        "df.info()"
      ],
      "metadata": {
        "id": "bh6_IY4qge3c"
      },
      "execution_count": null,
      "outputs": []
    },
    {
      "cell_type": "code",
      "source": [
        "df.size"
      ],
      "metadata": {
        "id": "NWUwiQTjkalJ"
      },
      "execution_count": null,
      "outputs": []
    },
    {
      "cell_type": "code",
      "source": [
        "print(len(df))"
      ],
      "metadata": {
        "id": "Zrmew73kkcUE"
      },
      "execution_count": null,
      "outputs": []
    },
    {
      "cell_type": "markdown",
      "source": [
        " **DATA PREPROCESSING AND EXPLORATORY DATA ANALYSIS**"
      ],
      "metadata": {
        "id": "CCCxd0sPInn7"
      }
    },
    {
      "cell_type": "code",
      "source": [
        "df.columns"
      ],
      "metadata": {
        "id": "-rAlVn5OkebK"
      },
      "execution_count": null,
      "outputs": []
    },
    {
      "cell_type": "code",
      "source": [
        "df.isnull().sum()"
      ],
      "metadata": {
        "id": "YWeZJqwykiWO"
      },
      "execution_count": null,
      "outputs": []
    },
    {
      "cell_type": "code",
      "source": [
        "df.corr()"
      ],
      "metadata": {
        "id": "Bd2h7e_VkkVV"
      },
      "execution_count": null,
      "outputs": []
    },
    {
      "cell_type": "code",
      "source": [
        "import matplotlib.pyplot as plt\n",
        "\n",
        "figure, ax = plt.subplots(figsize=(10,10))        \n",
        "sns.heatmap(df.corr(), annot=True, linewidths=.5, ax=ax)"
      ],
      "metadata": {
        "id": "T4U5qcl6nCGg"
      },
      "execution_count": null,
      "outputs": []
    },
    {
      "cell_type": "code",
      "source": [
        "df.columns"
      ],
      "metadata": {
        "id": "nCtizUm0nUU_"
      },
      "execution_count": null,
      "outputs": []
    },
    {
      "cell_type": "code",
      "source": [
        "df.rename(columns={'Div': 'league_div', 'Date': 'Date','FTHG':'full_time_HT_goals','FTAG':'full_time_AT_goals','FTR':'full_time_result','HTHG':'half_time_home_goals','HTAG':'half_time_away_goals','HTR':'half_time_result','HS':'home_shots','AS':'away_shots','HST':'home_shots_target','AST':'away_shots_target','HF':'home_foul','AF':'away_foul','HC':'home_corners','AC':'away_corners','HY':'home_yellow_cards','AY':'away_yellow_cards','HR':'home_red_cards','AR':'away_red_cards'}, inplace=True)"
      ],
      "metadata": {
        "id": "fW_J39UDnh-j"
      },
      "execution_count": null,
      "outputs": []
    },
    {
      "cell_type": "code",
      "source": [
        "df.columns"
      ],
      "metadata": {
        "id": "Ovutg70h1I85"
      },
      "execution_count": null,
      "outputs": []
    },
    {
      "cell_type": "code",
      "source": [
        "df.head(3)"
      ],
      "metadata": {
        "id": "qVkeTeMM1J6L"
      },
      "execution_count": null,
      "outputs": []
    },
    {
      "cell_type": "code",
      "source": [
        "df.hist(figsize=(25,25),xrot=45)\n",
        "plt.show()"
      ],
      "metadata": {
        "id": "QJFLKWLd7rDi"
      },
      "execution_count": null,
      "outputs": []
    },
    {
      "cell_type": "code",
      "source": [
        "df.columns"
      ],
      "metadata": {
        "id": "aF69tb54E0G-"
      },
      "execution_count": null,
      "outputs": []
    },
    {
      "cell_type": "code",
      "source": [
        "df_home_team= df[['league_div','Date','Time','HomeTeam','full_time_HT_goals','full_time_result','half_time_home_goals','half_time_result','Referee','home_shots','home_shots_target','home_foul','home_corners','home_red_cards']]"
      ],
      "metadata": {
        "id": "a7ro0t43E2Fe"
      },
      "execution_count": null,
      "outputs": []
    },
    {
      "cell_type": "code",
      "source": [
        "df_home_team.head(5)"
      ],
      "metadata": {
        "id": "4bx9xp9pPNnw"
      },
      "execution_count": null,
      "outputs": []
    },
    {
      "cell_type": "code",
      "source": [
        "plt.figure(figsize=(20,10))\n",
        "plt.title(\"number of full time HT goals of Home Team \")\n",
        "sns.lineplot(x=\"HomeTeam\",y=\"full_time_HT_goals\",data=df_home_team ,color='green', linestyle='dashed')"
      ],
      "metadata": {
        "id": "BR9gzKXCPXd8"
      },
      "execution_count": null,
      "outputs": []
    },
    {
      "cell_type": "code",
      "source": [
        "plt.figure(figsize=(20,10))\n",
        "plt.title(\"number of half time home team goals\")\n",
        "sns.lineplot(x=\"HomeTeam\",y=\"half_time_home_goals\",data=df_home_team ,color='blue', linestyle='dashed')"
      ],
      "metadata": {
        "id": "2m19BAVIQAbg"
      },
      "execution_count": null,
      "outputs": []
    },
    {
      "cell_type": "code",
      "source": [
        "sns.relplot(x='full_time_result',y='home_shots',hue='Referee',data=df_home_team)"
      ],
      "metadata": {
        "id": "FMcl0vqmTV8n"
      },
      "execution_count": null,
      "outputs": []
    },
    {
      "cell_type": "code",
      "source": [
        "sns.distplot(df_home_team['home_corners'],bins=5)"
      ],
      "metadata": {
        "id": "3R4zCFUqUAnC"
      },
      "execution_count": null,
      "outputs": []
    },
    {
      "cell_type": "code",
      "source": [
        "plt.figure(figsize=(18,6))\n",
        "plt.bar(df_home_team['home_shots_target'],df_home_team['home_foul'],color='purple',width=0.5)\n",
        "plt.xticks(rotation=70)\n",
        "plt.xlabel('home_shots_target')\n",
        "plt.ylabel('home_foul')\n",
        "plt.title(\"graph between home shots target and home shots\")\n",
        "plt.show()"
      ],
      "metadata": {
        "id": "r3vBkWepWIGp"
      },
      "execution_count": null,
      "outputs": []
    },
    {
      "cell_type": "code",
      "source": [
        "df_home_team.head(3)"
      ],
      "metadata": {
        "id": "FFKnSG5uEQBs"
      },
      "execution_count": null,
      "outputs": []
    },
    {
      "cell_type": "code",
      "source": [
        "df_home_team['Date'].value_counts().sort_values().plot.line()"
      ],
      "metadata": {
        "id": "hSDunHOpE8XL"
      },
      "execution_count": null,
      "outputs": []
    },
    {
      "cell_type": "code",
      "source": [
        "df.columns"
      ],
      "metadata": {
        "id": "vyzCAff8H4fO"
      },
      "execution_count": null,
      "outputs": []
    },
    {
      "cell_type": "code",
      "source": [
        "df_away_team=df[['league_div','Date','Time','AwayTeam','full_time_AT_goals','full_time_result','half_time_away_goals','half_time_result','Referee','away_shots','away_shots_target','away_foul','away_corners','away_yellow_cards','away_red_cards']]"
      ],
      "metadata": {
        "id": "JcQGe6C8IxPW"
      },
      "execution_count": null,
      "outputs": []
    },
    {
      "cell_type": "code",
      "source": [
        "df_away_team.head(5)"
      ],
      "metadata": {
        "id": "T9j4ySUvJZmX"
      },
      "execution_count": null,
      "outputs": []
    },
    {
      "cell_type": "code",
      "source": [
        "plt.figure(figsize=(20,10))\n",
        "plt.title(\"number of full time Away team goals\")\n",
        "sns.lineplot(x=\"AwayTeam\",y=\"full_time_AT_goals\",data=df_away_team ,color='purple', linestyle='dashed')"
      ],
      "metadata": {
        "id": "aDDk7EbMJcoo"
      },
      "execution_count": null,
      "outputs": []
    },
    {
      "cell_type": "code",
      "source": [
        "plt.figure(figsize=(20,10))\n",
        "plt.title(\"number of half time Away team goals\")\n",
        "sns.lineplot(x=\"AwayTeam\",y=\"half_time_away_goals\",data=df_away_team ,color='red', linestyle='dashed')"
      ],
      "metadata": {
        "id": "O2QAPJ86JwjX"
      },
      "execution_count": null,
      "outputs": []
    },
    {
      "cell_type": "code",
      "source": [
        "sns.relplot(x='full_time_result',y='away_shots',hue='AwayTeam',data=df_away_team)"
      ],
      "metadata": {
        "id": "5drFt7EtKLzr"
      },
      "execution_count": null,
      "outputs": []
    },
    {
      "cell_type": "code",
      "source": [
        "plt.figure(figsize=(18,6))\n",
        "plt.bar(df_away_team['away_shots'],df_away_team['away_shots_target'],width=0.5)\n",
        "plt.xticks(rotation=70)\n",
        "plt.xlabel('away shots')\n",
        "plt.ylabel('away shots target')\n",
        "plt.title(\"graph between away shots and away shots target of \")\n",
        "plt.show()"
      ],
      "metadata": {
        "id": "_db6emNWKUWp"
      },
      "execution_count": null,
      "outputs": []
    },
    {
      "cell_type": "code",
      "source": [
        "df_home_team['Time'].value_counts().sort_values().plot.line()"
      ],
      "metadata": {
        "id": "-G4-yrWsK0Fk"
      },
      "execution_count": null,
      "outputs": []
    },
    {
      "cell_type": "markdown",
      "source": [
        "**P2.1.1 - Add Booking Points Columns**"
      ],
      "metadata": {
        "id": "S-xb9HPbl4aK"
      }
    },
    {
      "cell_type": "code",
      "source": [
        "from sklearn.model_selection import train_test_split\n",
        "from sklearn.preprocessing import StandardScaler\n",
        "from sklearn.model_selection import cross_val_score\n",
        "from sklearn.metrics import mean_squared_error\n",
        "from sklearn.metrics import r2_score\n",
        "from sklearn .preprocessing import MinMaxScaler\n",
        "from sklearn.preprocessing import LabelEncoder\n",
        "from sklearn.metrics import precision_score"
      ],
      "metadata": {
        "id": "4gB20uIoM9BB"
      },
      "execution_count": null,
      "outputs": []
    },
    {
      "cell_type": "code",
      "source": [
        "df_numerical = df.apply(LabelEncoder().fit_transform)\n",
        "df_numerical.head(5)"
      ],
      "metadata": {
        "id": "C0iReUu_qYKs"
      },
      "execution_count": null,
      "outputs": []
    },
    {
      "cell_type": "code",
      "source": [
        " #s = pd.Series([\"00:10:30\"])\n",
        " #s = pd.to_timedelta(s)\n",
        "#s / pd.offsets.Minute(1)\n"
      ],
      "metadata": {
        "id": "yrXPIvcGHykK"
      },
      "execution_count": null,
      "outputs": []
    },
    {
      "cell_type": "code",
      "source": [
        "df.columns"
      ],
      "metadata": {
        "id": "iEp7lqRtYyv6"
      },
      "execution_count": null,
      "outputs": []
    },
    {
      "cell_type": "code",
      "source": [
        "def hom_booking(a,b):\n",
        "  home_booking= 10*a+25*b\n",
        "  return home_booking\n",
        "\n",
        "def awa_booking(x,y):\n",
        "  away_booking= 10*x+25*y\n",
        "  return away_booking\n",
        "\n",
        "df['home_booking_new'] = df.apply(lambda x: hom_booking(x['home_yellow_cards'], x['home_red_cards']), axis=1)\n",
        "df['away_booking']= df.apply(lambda y: awa_booking(y['away_yellow_cards'],y['away_red_cards']),axis=1)\n",
        "df.head(3)"
      ],
      "metadata": {
        "id": "jvPjSO70ZivE"
      },
      "execution_count": null,
      "outputs": []
    },
    {
      "cell_type": "markdown",
      "source": [
        "**P2.1.3 - Fair Play League Table (4 marks)**"
      ],
      "metadata": {
        "id": "d8P139tz6nNB"
      }
    },
    {
      "cell_type": "code",
      "source": [
        "def fair_play_league_home(df):\n",
        "  hb_plot= sns.barplot(x=\"home_booking_new\",y=\"HomeTeam\",data=df)\n",
        "  return hb_plot  \n",
        "fair_play_league_home(df)\n"
      ],
      "metadata": {
        "id": "Y7JUYxHH3XHX"
      },
      "execution_count": null,
      "outputs": []
    },
    {
      "cell_type": "code",
      "source": [
        "def fair_play_league_away(df):\n",
        "  ab_plot= sns.barplot(x=\"away_booking\",y=\"AwayTeam\",data=df)\n",
        "  return ab_plot\n",
        "fair_play_league_away(df)"
      ],
      "metadata": {
        "id": "VHmK5bDSPkWY"
      },
      "execution_count": null,
      "outputs": []
    },
    {
      "cell_type": "code",
      "source": [
        "champion= ['home_booking_new','away_booking']"
      ],
      "metadata": {
        "id": "iQ66MBZUWm7E"
      },
      "execution_count": null,
      "outputs": []
    },
    {
      "cell_type": "code",
      "source": [
        "df['champs']=df[champion].sum(axis=1)"
      ],
      "metadata": {
        "id": "jIxrObKnZHUq"
      },
      "execution_count": null,
      "outputs": []
    },
    {
      "cell_type": "code",
      "source": [
        "#champions of 2020-2021 fair play league \n",
        "sns.countplot(champ,data=df)"
      ],
      "metadata": {
        "id": "lXJ9CJMyaF4e"
      },
      "execution_count": null,
      "outputs": []
    },
    {
      "cell_type": "code",
      "source": [
        ""
      ],
      "metadata": {
        "id": "wzlbQWZaaUYC"
      },
      "execution_count": null,
      "outputs": []
    }
  ]
}